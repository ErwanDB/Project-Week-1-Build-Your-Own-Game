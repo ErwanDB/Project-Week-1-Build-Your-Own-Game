{
 "cells": [
  {
   "cell_type": "markdown",
   "metadata": {},
   "source": [
    "# Mastermind"
   ]
  },
  {
   "cell_type": "markdown",
   "metadata": {},
   "source": [
    "**Create colors available:**"
   ]
  },
  {
   "cell_type": "code",
   "execution_count": 28,
   "metadata": {},
   "outputs": [],
   "source": [
    "colors=[\"blue\", \"red\", \"green\", \"purple\", \"yellow\", \"black\", \"orange\", \"grey\"]"
   ]
  },
  {
   "cell_type": "markdown",
   "metadata": {},
   "source": [
    "**Choose number of rounds**"
   ]
  },
  {
   "cell_type": "code",
   "execution_count": 38,
   "metadata": {},
   "outputs": [],
   "source": [
    "max_rounds=3"
   ]
  },
  {
   "cell_type": "markdown",
   "metadata": {},
   "source": [
    "**Define round variable**"
   ]
  },
  {
   "cell_type": "code",
   "execution_count": 39,
   "metadata": {},
   "outputs": [],
   "source": [
    "n_round = 0"
   ]
  },
  {
   "cell_type": "markdown",
   "metadata": {},
   "source": [
    "**Generate random hidden combination**"
   ]
  },
  {
   "cell_type": "code",
   "execution_count": 43,
   "metadata": {},
   "outputs": [],
   "source": [
    "import random\n",
    "\n",
    "hide = random.sample(colors,k=4)"
   ]
  },
  {
   "cell_type": "markdown",
   "metadata": {},
   "source": [
    "**Choose between the following colors:**\n",
    "<font color = blue>blue</font>, <font color = red>red</font>, <font color = green>green</font>,\n",
    "<font color = purple>purple</font>, <font color = yellow>yellow</font>, <font color = black>black</font>, <font color = orange>orange</font>, <font color = grey>grey</font> ***(you can choose a color only once)***"
   ]
  },
  {
   "cell_type": "code",
   "execution_count": 32,
   "metadata": {},
   "outputs": [],
   "source": [
    "def player():\n",
    "    player_combination = []\n",
    "\n",
    "    while len(player_combination)<4:\n",
    "        a = 0\n",
    "        while a not in colors or a in player_combination:\n",
    "            a=input('Choose a color in the list:')            \n",
    "        player_combination.append(a)\n",
    "\n",
    "    print('your combination is ', player_combination)\n",
    "    return player_combination"
   ]
  },
  {
   "cell_type": "markdown",
   "metadata": {},
   "source": [
    "**Challenger answer**"
   ]
  },
  {
   "cell_type": "code",
   "execution_count": 33,
   "metadata": {},
   "outputs": [],
   "source": [
    "def challenger(player,hide):\n",
    "    challenger_advise = []\n",
    "\n",
    "    for i,j in zip(player,hide):\n",
    "        if i==j:\n",
    "            challenger_advise.append('red')\n",
    "        elif i in hide:\n",
    "            challenger_advise.append('white')\n",
    "        else:\n",
    "            challenger_advise.append(\" \")\n",
    "\n",
    "    print(challenger_advise)\n",
    "    return challenger_advise"
   ]
  },
  {
   "cell_type": "markdown",
   "metadata": {},
   "source": [
    "**Round execution**"
   ]
  },
  {
   "cell_type": "code",
   "execution_count": 34,
   "metadata": {},
   "outputs": [],
   "source": [
    "def round_result(challenger):\n",
    "    result = 0\n",
    "    if challenger==['red','red','red','red']:\n",
    "        result = 1\n",
    "        print('Congratulations, you won !')\n",
    "    else:\n",
    "        result = 0\n",
    "        \n",
    "    return result"
   ]
  },
  {
   "cell_type": "markdown",
   "metadata": {},
   "source": [
    "**Game execution**"
   ]
  },
  {
   "cell_type": "code",
   "execution_count": 44,
   "metadata": {},
   "outputs": [
    {
     "name": "stdout",
     "output_type": "stream",
     "text": [
      "Choose a color in the list:orange\n",
      "Choose a color in the list:green\n",
      "Choose a color in the list:purple\n",
      "Choose a color in the list:black\n",
      "your combination is  ['orange', 'green', 'purple', 'black']\n",
      "[' ', ' ', 'white', ' ']\n",
      "Choose a color in the list:purple\n",
      "Choose a color in the list:blue\n",
      "Choose a color in the list:red\n",
      "Choose a color in the list:yellow\n",
      "your combination is  ['purple', 'blue', 'red', 'yellow']\n",
      "['white', 'white', ' ', 'white']\n",
      "Choose a color in the list:blue\n",
      "Choose a color in the list:purple\n",
      "Choose a color in the list:yellow\n",
      "Choose a color in the list:grey\n",
      "your combination is  ['blue', 'purple', 'yellow', 'grey']\n",
      "['red', 'white', 'red', 'white']\n",
      "Sorry, you lose\n"
     ]
    }
   ],
   "source": [
    "player_won = 0\n",
    "n_round = 0\n",
    "\n",
    "while player_won == 0 and n_round<max_rounds:\n",
    "    player_won = round_result(challenger(player(),hide))\n",
    "    n_round +=1\n",
    "    \n",
    "if n_round == max_rounds and player_won == 0:\n",
    "    print('Sorry, you lose')\n"
   ]
  },
  {
   "cell_type": "code",
   "execution_count": null,
   "metadata": {},
   "outputs": [],
   "source": []
  }
 ],
 "metadata": {
  "kernelspec": {
   "display_name": "Python 3",
   "language": "python",
   "name": "python3"
  },
  "language_info": {
   "codemirror_mode": {
    "name": "ipython",
    "version": 3
   },
   "file_extension": ".py",
   "mimetype": "text/x-python",
   "name": "python",
   "nbconvert_exporter": "python",
   "pygments_lexer": "ipython3",
   "version": "3.8.3"
  }
 },
 "nbformat": 4,
 "nbformat_minor": 4
}
